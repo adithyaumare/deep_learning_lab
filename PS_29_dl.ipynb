{
  "nbformat": 4,
  "nbformat_minor": 0,
  "metadata": {
    "colab": {
      "provenance": []
    },
    "kernelspec": {
      "name": "python3",
      "display_name": "Python 3"
    },
    "language_info": {
      "name": "python"
    }
  },
  "cells": [
    {
      "cell_type": "markdown",
      "source": [
        "Statement 29\n",
        "Use transfer learning with VGG16 on the Cats and Dogs dataset, freezing the first 4 layers, and train\n",
        "the classifier and evaluate model performance using a classification report."
      ],
      "metadata": {
        "id": "J8WBsqX4-5jM"
      }
    },
    {
      "cell_type": "markdown",
      "source": [
        "#Step 1: Data Preparation"
      ],
      "metadata": {
        "id": "PEVA7xgMG19B"
      }
    },
    {
      "cell_type": "code",
      "execution_count": 2,
      "metadata": {
        "id": "8Pw-QY05-lSV"
      },
      "outputs": [],
      "source": [
        "import numpy as np\n",
        "import pandas as pd\n",
        "import matplotlib.pyplot as plt\n",
        "from tensorflow.keras.preprocessing.image import ImageDataGenerator\n",
        "from tensorflow.keras.applications import VGG16\n",
        "from tensorflow.keras.models import Sequential\n",
        "from tensorflow.keras.layers import Dense, Flatten, Dropout\n",
        "from tensorflow.keras.optimizers import Adam\n",
        "from sklearn.metrics import classification_report"
      ]
    },
    {
      "cell_type": "code",
      "source": [
        "# Define paths\n",
        "train_dir = 'cats_and_dogs/train'\n",
        "validation_dir = 'cats_and_dogs/validation'\n",
        "test_dir = 'cats_and_dogs/test'"
      ],
      "metadata": {
        "id": "Xk0yr32F-sbd"
      },
      "execution_count": null,
      "outputs": []
    },
    {
      "cell_type": "code",
      "source": [
        "# Image dimensions\n",
        "img_width, img_height = 150, 150\n",
        "input_shape = (img_width, img_height, 3)\n",
        "batch_size = 32\n"
      ],
      "metadata": {
        "id": "GkXnjG6UGjx-"
      },
      "execution_count": null,
      "outputs": []
    },
    {
      "cell_type": "code",
      "source": [
        "# Data generators with augmentation for training\n",
        "train_datagen = ImageDataGenerator(\n",
        "    rescale=1./255,\n",
        "    rotation_range=20,\n",
        "    width_shift_range=0.2,\n",
        "    height_shift_range=0.2,\n",
        "    shear_range=0.2,\n",
        "    zoom_range=0.2,\n",
        "    horizontal_flip=True,\n",
        "    fill_mode='nearest'\n",
        ")\n",
        "\n",
        "validation_datagen = ImageDataGenerator(rescale=1./255)\n",
        "\n",
        "train_generator = train_datagen.flow_from_directory(\n",
        "    train_dir,\n",
        "    target_size=(img_width, img_height),\n",
        "    batch_size=batch_size,\n",
        "    class_mode='binary'\n",
        ")\n",
        "\n",
        "validation_generator = validation_datagen.flow_from_directory(\n",
        "    validation_dir,\n",
        "    target_size=(img_width, img_height),\n",
        "    batch_size=batch_size,\n",
        "    class_mode='binary',\n",
        "    shuffle=False\n",
        ")\n",
        "\n",
        "test_generator = validation_datagen.flow_from_directory(\n",
        "    test_dir,\n",
        "    target_size=(img_width, img_height),\n",
        "    batch_size=batch_size,\n",
        "    class_mode='binary',\n",
        "    shuffle=False\n",
        ")"
      ],
      "metadata": {
        "id": "7CQgBjokGr8H"
      },
      "execution_count": null,
      "outputs": []
    },
    {
      "cell_type": "markdown",
      "source": [
        "# Step 2: Model Setup with Transfer Learning"
      ],
      "metadata": {
        "id": "9vmXXoq6Gt80"
      }
    },
    {
      "cell_type": "code",
      "source": [
        "# Load VGG16 base model\n",
        "base_model = VGG16(\n",
        "    weights='imagenet',\n",
        "    include_top=False,\n",
        "    input_shape=input_shape\n",
        ")\n",
        "\n",
        "# Freeze first 4 layers\n",
        "for layer in base_model.layers[:4]:\n",
        "    layer.trainable = False\n",
        "\n",
        "# Build model\n",
        "model = Sequential([\n",
        "    base_model,\n",
        "    Flatten(),\n",
        "    Dense(256, activation='relu'),\n",
        "    Dropout(0.5),\n",
        "    Dense(1, activation='sigmoid')\n",
        "])\n",
        "\n",
        "# Compile model\n",
        "model.compile(\n",
        "    optimizer=Adam(learning_rate=1e-4),\n",
        "    loss='binary_crossentropy',\n",
        "    metrics=['accuracy']\n",
        ")\n",
        "\n",
        "model.summary()"
      ],
      "metadata": {
        "id": "PAXh0GEoG4sT"
      },
      "execution_count": null,
      "outputs": []
    },
    {
      "cell_type": "markdown",
      "source": [
        "# Step 3: Model Training"
      ],
      "metadata": {
        "id": "5FTE99WDG8xC"
      }
    },
    {
      "cell_type": "code",
      "source": [
        "# Train the model\n",
        "history = model.fit(\n",
        "    train_generator,\n",
        "    steps_per_epoch=train_generator.samples // batch_size,\n",
        "    epochs=20,\n",
        "    validation_data=validation_generator,\n",
        "    validation_steps=validation_generator.samples // batch_size\n",
        ")"
      ],
      "metadata": {
        "id": "WoK3AtauHDXZ"
      },
      "execution_count": null,
      "outputs": []
    },
    {
      "cell_type": "markdown",
      "source": [
        "# Step 4: Evaluation and Classification Report"
      ],
      "metadata": {
        "id": "EKkt5D31HGLz"
      }
    },
    {
      "cell_type": "code",
      "source": [
        "# Evaluate on test set\n",
        "test_loss, test_acc = model.evaluate(test_generator)\n",
        "print(f\"\\nTest Accuracy: {test_acc:.4f}\")\n",
        "\n",
        "# Generate predictions\n",
        "test_generator.reset()\n",
        "preds = model.predict(test_generator)\n",
        "y_pred = np.where(preds > 0.5, 1, 0)\n",
        "\n",
        "# Classification report\n",
        "print(\"\\nClassification Report:\")\n",
        "print(classification_report(\n",
        "    test_generator.classes,\n",
        "    y_pred,\n",
        "    target_names=['Cat', 'Dog']\n",
        "))\n",
        "\n",
        "# Plot training history\n",
        "plt.figure(figsize=(12, 5))\n",
        "plt.subplot(1, 2, 1)\n",
        "plt.plot(history.history['accuracy'], label='Train Accuracy')\n",
        "plt.plot(history.history['val_accuracy'], label='Validation Accuracy')\n",
        "plt.title('Accuracy Curves')\n",
        "plt.ylabel('Accuracy')\n",
        "plt.xlabel('Epoch')\n",
        "plt.legend()\n",
        "\n",
        "plt.subplot(1, 2, 2)\n",
        "plt.plot(history.history['loss'], label='Train Loss')\n",
        "plt.plot(history.history['val_loss'], label='Validation Loss')\n",
        "plt.title('Loss Curves')\n",
        "plt.ylabel('Loss')\n",
        "plt.xlabel('Epoch')\n",
        "plt.legend()\n",
        "plt.tight_layout()\n",
        "plt.show()"
      ],
      "metadata": {
        "id": "BtWDz9FUHKgZ"
      },
      "execution_count": null,
      "outputs": []
    },
    {
      "cell_type": "markdown",
      "source": [
        "#Transfer Learning Setup:\n",
        "\n",
        "Uses VGG16 pre-trained on ImageNet\n",
        "\n",
        "Freezes first 4 convolutional blocks\n",
        "\n",
        "Adds custom classifier head\n",
        "\n",
        "#Data Handling:\n",
        "\n",
        "Proper image augmentation for training\n",
        "\n",
        "Separate generators for train/val/test\n",
        "\n",
        "Binary classification setup (cats vs dogs)\n",
        "\n",
        "#Model Architecture:\n",
        "\n",
        "VGG16 convolutional base\n",
        "\n",
        "Flatten layer to transition to dense layers\n",
        "\n",
        "256-unit dense layer with ReLU activation\n",
        "\n",
        "50% dropout for regularization\n",
        "\n",
        "Single output with sigmoid activation\n",
        "\n",
        "#Evaluation:\n",
        "\n",
        "Full classification report with precision/recall/F1\n",
        "\n",
        "Accuracy and loss curves visualization\n",
        "\n",
        "Test set evaluation"
      ],
      "metadata": {
        "id": "23E0YMZmHP2G"
      }
    }
  ]
}