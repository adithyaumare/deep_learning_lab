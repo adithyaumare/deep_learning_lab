Implement CNNs using Adam and RMSprop optimizers with a learning rate of 0.001 on Peach 
images. Record validation loss and accuracy.